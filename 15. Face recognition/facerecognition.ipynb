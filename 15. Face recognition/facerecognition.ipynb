{
 "cells": [
  {
   "cell_type": "markdown",
   "metadata": {},
   "source": [
    "### Face Recognition"
   ]
  },
  {
   "cell_type": "code",
   "execution_count": 19,
   "metadata": {},
   "outputs": [
    {
     "name": "stdout",
     "output_type": "stream",
     "text": [
      "['Ben Afflek', 'Elton John', 'Jerry Seinfield', 'Madonna', 'Mindy Kaling']\n",
      "Training Done ..............\n"
     ]
    }
   ],
   "source": [
    "import os\n",
    "import cv2 as cv\n",
    "import numpy as np\n",
    "\n",
    "peple = []\n",
    "for i in os.listdir(r'C:\\Users\\nidul\\Desktop\\ACCA Folder My\\image processing\\15. Face recognition\\train'):\n",
    "    peple.append(i)\n",
    "\n",
    "    \n",
    "print(peple)\n",
    "\n",
    "\n",
    "DIR = r'C:\\Users\\nidul\\Desktop\\ACCA Folder My\\image processing\\15. Face recognition\\train'\n",
    "\n",
    "har_cascade = cv.CascadeClassifier('haar_face.xml')\n",
    "\n",
    "features = []\n",
    "lables = []\n",
    "\n",
    "def create_train():\n",
    "    for person in peple:\n",
    "        path = os.path.join(DIR,person)\n",
    "        label = peple.index(person)\n",
    "        \n",
    "        for img in os.listdir(path):\n",
    "            img_path = os.path.join(path,img)\n",
    "            \n",
    "            img_array = cv.imread(img_path)\n",
    "            gray = cv.cvtColor(img_array,cv.COLOR_BGR2GRAY)\n",
    "            \n",
    "            face_rect = har_cascade.detectMultiScale(gray,scaleFactor=1.1,minNeighbors=4)\n",
    "            \n",
    "            for (x,y,w,h) in face_rect:\n",
    "                faces_roi = gray[y:y+h,x:x+w]\n",
    "                features.append(faces_roi)\n",
    "                lables.append(label)\n",
    "\n",
    "create_train()\n",
    "print('Training Done ..............')\n",
    "\n",
    "features = np.array(features,dtype='object')\n",
    "lables = np.array(lables)\n",
    "\n",
    "face_recognizer = cv.face.LBPHFaceRecognizer_create()\n"
   ]
  },
  {
   "cell_type": "markdown",
   "metadata": {},
   "source": [
    "Train the recognizer on the features list and the lables list"
   ]
  },
  {
   "cell_type": "code",
   "execution_count": 20,
   "metadata": {},
   "outputs": [],
   "source": [
    "face_recognizer.train(features,lables)\n",
    "\n",
    "face_recognizer.save('face_trained.yml')\n",
    "np.save('features.npy',features)\n",
    "np.save('lables.npy',lables)"
   ]
  },
  {
   "cell_type": "markdown",
   "metadata": {},
   "source": [
    "Getting the data from the already trained model and no need to run the upper part from this"
   ]
  },
  {
   "cell_type": "code",
   "execution_count": 30,
   "metadata": {},
   "outputs": [
    {
     "name": "stdout",
     "output_type": "stream",
     "text": [
      "Label = Elton John with a confidance of 67.00856809674691\n"
     ]
    },
    {
     "data": {
      "text/plain": [
       "-1"
      ]
     },
     "execution_count": 30,
     "metadata": {},
     "output_type": "execute_result"
    }
   ],
   "source": [
    "import cv2 as cv\n",
    "import numpy as np\n",
    "\n",
    "har_cascade = cv.CascadeClassifier(\"haar_face.xml\")\n",
    "\n",
    "peple = []\n",
    "for i in os.listdir(\n",
    "    r\"C:\\Users\\nidul\\Desktop\\ACCA Folder My\\image processing\\15. Face recognition\\train\"\n",
    "):\n",
    "    peple.append(i)\n",
    "\n",
    "\n",
    "features = np.load(\"features.npy\", allow_pickle=True)\n",
    "lables = np.load(\"lables.npy\")\n",
    "\n",
    "face_recognizer = cv.face.LBPHFaceRecognizer_create()\n",
    "\n",
    "face_recognizer.read(\"face_trained.yml\")\n",
    "\n",
    "img = cv.imread(r\"val/elton_john/1.jpg\")\n",
    "gray = cv.cvtColor(img, cv.COLOR_BGR2GRAY)\n",
    "cv.imshow(\"Gray\", gray)\n",
    "\n",
    "face_eect = har_cascade.detectMultiScale(gray, 1.1, 4)\n",
    "\n",
    "for x, y, w, h in face_eect:\n",
    "    faces_roi = gray[y : y + h, x : x + w]\n",
    "\n",
    "    label, confidance = face_recognizer.predict(faces_roi)\n",
    "    print(f\"Label = {peple[label]} with a confidance of {confidance}\")\n",
    "    cv.putText(\n",
    "        img,\n",
    "        str(peple[label]),\n",
    "        (20, 20),\n",
    "        cv.FONT_HERSHEY_COMPLEX,\n",
    "        1.0,\n",
    "        (0, 255, 0),\n",
    "        thickness=2,\n",
    "    )\n",
    "    cv.rectangle(img, (x, y), (x + w, y + h), (0, 255, 0), thickness=2)\n",
    "\n",
    "cv.imshow(\"Detected face\", img)\n",
    "\n",
    "cv.waitKey(0)"
   ]
  }
 ],
 "metadata": {
  "kernelspec": {
   "display_name": "Python 3",
   "language": "python",
   "name": "python3"
  },
  "language_info": {
   "codemirror_mode": {
    "name": "ipython",
    "version": 3
   },
   "file_extension": ".py",
   "mimetype": "text/x-python",
   "name": "python",
   "nbconvert_exporter": "python",
   "pygments_lexer": "ipython3",
   "version": "3.10.11"
  }
 },
 "nbformat": 4,
 "nbformat_minor": 2
}
