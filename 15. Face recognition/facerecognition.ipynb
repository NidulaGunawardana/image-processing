{
 "cells": [
  {
   "cell_type": "markdown",
   "metadata": {},
   "source": [
    "### Face Recognition"
   ]
  },
  {
   "cell_type": "code",
   "execution_count": 1,
   "metadata": {},
   "outputs": [
    {
     "name": "stdout",
     "output_type": "stream",
     "text": [
      "['Ben Afflek', 'Elton John', 'Jerry Seinfield', 'Madonna', 'Mindy Kaling']\n"
     ]
    },
    {
     "ename": "FileNotFoundError",
     "evalue": "[WinError 3] The system cannot find the path specified: 'C:\\\\Users\\\\nidul\\\\Desktop\\\\ACCA Folder My\\\\image processing\\\\15. Face recognition\\\\train\\\\Ben Afflek'",
     "output_type": "error",
     "traceback": [
      "\u001b[1;31m---------------------------------------------------------------------------\u001b[0m",
      "\u001b[1;31mFileNotFoundError\u001b[0m                         Traceback (most recent call last)",
      "Cell \u001b[1;32mIn[1], line 38\u001b[0m\n\u001b[0;32m     35\u001b[0m                 features\u001b[38;5;241m.\u001b[39mappend(faces_roi)\n\u001b[0;32m     36\u001b[0m                 lables\u001b[38;5;241m.\u001b[39mappend(label)\n\u001b[1;32m---> 38\u001b[0m \u001b[43mcreate_train\u001b[49m\u001b[43m(\u001b[49m\u001b[43m)\u001b[49m\n\u001b[0;32m     39\u001b[0m \u001b[38;5;28mprint\u001b[39m(\u001b[38;5;124m'\u001b[39m\u001b[38;5;124mTraining Done ..............\u001b[39m\u001b[38;5;124m'\u001b[39m)\n\u001b[0;32m     41\u001b[0m features \u001b[38;5;241m=\u001b[39m np\u001b[38;5;241m.\u001b[39marray(features,dtype\u001b[38;5;241m=\u001b[39m\u001b[38;5;124m'\u001b[39m\u001b[38;5;124mobject\u001b[39m\u001b[38;5;124m'\u001b[39m)\n",
      "Cell \u001b[1;32mIn[1], line 25\u001b[0m, in \u001b[0;36mcreate_train\u001b[1;34m()\u001b[0m\n\u001b[0;32m     22\u001b[0m path \u001b[38;5;241m=\u001b[39m os\u001b[38;5;241m.\u001b[39mpath\u001b[38;5;241m.\u001b[39mjoin(DIR,person)\n\u001b[0;32m     23\u001b[0m label \u001b[38;5;241m=\u001b[39m peple\u001b[38;5;241m.\u001b[39mindex(person)\n\u001b[1;32m---> 25\u001b[0m \u001b[38;5;28;01mfor\u001b[39;00m img \u001b[38;5;129;01min\u001b[39;00m \u001b[43mos\u001b[49m\u001b[38;5;241;43m.\u001b[39;49m\u001b[43mlistdir\u001b[49m\u001b[43m(\u001b[49m\u001b[43mpath\u001b[49m\u001b[43m)\u001b[49m:\n\u001b[0;32m     26\u001b[0m     img_path \u001b[38;5;241m=\u001b[39m os\u001b[38;5;241m.\u001b[39mpath\u001b[38;5;241m.\u001b[39mjoin(path,img)\n\u001b[0;32m     28\u001b[0m     img_array \u001b[38;5;241m=\u001b[39m cv\u001b[38;5;241m.\u001b[39mimread(img_path)\n",
      "\u001b[1;31mFileNotFoundError\u001b[0m: [WinError 3] The system cannot find the path specified: 'C:\\\\Users\\\\nidul\\\\Desktop\\\\ACCA Folder My\\\\image processing\\\\15. Face recognition\\\\train\\\\Ben Afflek'"
     ]
    }
   ],
   "source": [
    "import os\n",
    "import cv2 as cv\n",
    "import numpy as np\n",
    "\n",
    "peple = []\n",
    "for i in os.listdir(r'C:\\Users\\nidul\\OneDrive - University of Moratuwa\\Desktop\\ACCA Folder My\\image processing\\15. Face recognition\\train'):\n",
    "    peple.append(i)\n",
    "\n",
    "    \n",
    "print(peple)\n",
    "\n",
    "\n",
    "DIR = r'C:\\Users\\nidul\\Desktop\\ACCA Folder My\\image processing\\15. Face recognition\\train'\n",
    "\n",
    "har_cascade = cv.CascadeClassifier('haar_face.xml')\n",
    "\n",
    "features = []\n",
    "lables = []\n",
    "\n",
    "def create_train():\n",
    "    for person in peple:\n",
    "        path = os.path.join(DIR,person)\n",
    "        label = peple.index(person)\n",
    "        \n",
    "        for img in os.listdir(path):\n",
    "            img_path = os.path.join(path,img)\n",
    "            \n",
    "            img_array = cv.imread(img_path)\n",
    "            gray = cv.cvtColor(img_array,cv.COLOR_BGR2GRAY)\n",
    "            \n",
    "            face_rect = har_cascade.detectMultiScale(gray,scaleFactor=1.1,minNeighbors=4)\n",
    "            \n",
    "            for (x,y,w,h) in face_rect:\n",
    "                faces_roi = gray[y:y+h,x:x+w]\n",
    "                features.append(faces_roi)\n",
    "                lables.append(label)\n",
    "\n",
    "create_train()\n",
    "print('Training Done ..............')\n",
    "\n",
    "features = np.array(features,dtype='object')\n",
    "lables = np.array(lables)\n",
    "\n",
    "face_recognizer = cv.face.LBPHFaceRecognizer_create()\n"
   ]
  },
  {
   "cell_type": "markdown",
   "metadata": {},
   "source": [
    "Train the recognizer on the features list and the lables list"
   ]
  },
  {
   "cell_type": "code",
   "execution_count": 6,
   "metadata": {},
   "outputs": [
    {
     "ename": "NameError",
     "evalue": "name 'face_recognizer' is not defined",
     "output_type": "error",
     "traceback": [
      "\u001b[1;31m---------------------------------------------------------------------------\u001b[0m",
      "\u001b[1;31mNameError\u001b[0m                                 Traceback (most recent call last)",
      "Cell \u001b[1;32mIn[6], line 1\u001b[0m\n\u001b[1;32m----> 1\u001b[0m \u001b[43mface_recognizer\u001b[49m\u001b[38;5;241m.\u001b[39mtrain(features,lables)\n\u001b[0;32m      3\u001b[0m face_recognizer\u001b[38;5;241m.\u001b[39msave(\u001b[38;5;124m'\u001b[39m\u001b[38;5;124mface_trained.yml\u001b[39m\u001b[38;5;124m'\u001b[39m)\n\u001b[0;32m      4\u001b[0m np\u001b[38;5;241m.\u001b[39msave(\u001b[38;5;124m'\u001b[39m\u001b[38;5;124mfeatures.npy\u001b[39m\u001b[38;5;124m'\u001b[39m,features)\n",
      "\u001b[1;31mNameError\u001b[0m: name 'face_recognizer' is not defined"
     ]
    }
   ],
   "source": [
    "face_recognizer.train(features,lables)\n",
    "\n",
    "face_recognizer.save('face_trained.yml')\n",
    "np.save('features.npy',features)\n",
    "np.save('lables.npy',lables)"
   ]
  },
  {
   "cell_type": "markdown",
   "metadata": {},
   "source": [
    "Getting the data from the already trained model and no need to run the upper part from this"
   ]
  },
  {
   "cell_type": "code",
   "execution_count": 33,
   "metadata": {},
   "outputs": [
    {
     "name": "stdout",
     "output_type": "stream",
     "text": [
      "Label = Elton John with a confidance of 67.00856809674691\n"
     ]
    },
    {
     "data": {
      "text/plain": [
       "-1"
      ]
     },
     "execution_count": 33,
     "metadata": {},
     "output_type": "execute_result"
    }
   ],
   "source": [
    "import cv2 as cv\n",
    "import numpy as np\n",
    "\n",
    "har_cascade = cv.CascadeClassifier(\"haar_face.xml\")\n",
    "\n",
    "peple = []\n",
    "for i in os.listdir(\n",
    "    r\"C:\\Users\\nidul\\Desktop\\ACCA Folder My\\image processing\\15. Face recognition\\train\"\n",
    "):\n",
    "    peple.append(i)\n",
    "\n",
    "\n",
    "features = np.load(\"features.npy\", allow_pickle=True)\n",
    "lables = np.load(\"lables.npy\")\n",
    "\n",
    "face_recognizer = cv.face.LBPHFaceRecognizer_create()\n",
    "\n",
    "face_recognizer.read(\"face_trained.yml\")\n",
    "\n",
    "img = cv.imread(r\"val/elton_john/1.jpg\")\n",
    "gray = cv.cvtColor(img, cv.COLOR_BGR2GRAY)\n",
    "cv.imshow(\"Gray\", gray)\n",
    "\n",
    "face_eect = har_cascade.detectMultiScale(gray, 1.1, 4)\n",
    "\n",
    "for x, y, w, h in face_eect:\n",
    "    faces_roi = gray[y : y + h, x : x + w]\n",
    "\n",
    "    label, confidance = face_recognizer.predict(faces_roi)\n",
    "    print(f\"Label = {peple[label]} with a confidance of {confidance}\")\n",
    "    cv.putText(\n",
    "        img,\n",
    "        str(peple[label]),\n",
    "        (20, 20),\n",
    "        cv.FONT_HERSHEY_COMPLEX,\n",
    "        1.0,\n",
    "        (0, 255, 0),\n",
    "        thickness=2,\n",
    "    )\n",
    "    cv.rectangle(img, (x, y), (x + w, y + h), (0, 255, 0), thickness=2)\n",
    "\n",
    "cv.imshow(\"Detected face\", img)\n",
    "\n",
    "cv.waitKey(0)"
   ]
  },
  {
   "cell_type": "markdown",
   "metadata": {},
   "source": [
    "3.15"
   ]
  },
  {
   "cell_type": "markdown",
   "metadata": {},
   "source": []
  }
 ],
 "metadata": {
  "kernelspec": {
   "display_name": "Python 3",
   "language": "python",
   "name": "python3"
  },
  "language_info": {
   "codemirror_mode": {
    "name": "ipython",
    "version": 3
   },
   "file_extension": ".py",
   "mimetype": "text/x-python",
   "name": "python",
   "nbconvert_exporter": "python",
   "pygments_lexer": "ipython3",
   "version": "3.9.18"
  }
 },
 "nbformat": 4,
 "nbformat_minor": 2
}
