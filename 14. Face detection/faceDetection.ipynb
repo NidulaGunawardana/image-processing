{
 "cells": [
  {
   "cell_type": "markdown",
   "metadata": {},
   "source": [
    "### Face Detection"
   ]
  },
  {
   "cell_type": "code",
   "execution_count": 1,
   "metadata": {},
   "outputs": [
    {
     "name": "stdout",
     "output_type": "stream",
     "text": [
      "7\n"
     ]
    },
    {
     "data": {
      "text/plain": [
       "-1"
      ]
     },
     "execution_count": 1,
     "metadata": {},
     "output_type": "execute_result"
    }
   ],
   "source": [
    "import cv2 as cv\n",
    "\n",
    "def rescaleFrame(frame,scale=0.75):\n",
    "    \"\"\"\n",
    "    This method will work for any kind of video photo or live video\n",
    "    \"\"\"\n",
    "    width = int(frame.shape[1]*scale)\n",
    "    height = int(frame.shape[0]*scale)\n",
    "    \n",
    "    dimentions = (width,height)\n",
    "    \n",
    "    return cv.resize(frame,dimentions,interpolation=cv.INTER_AREA)\n",
    "\n",
    "img = cv.imread('people.jpg')\n",
    "scaled_img = rescaleFrame(img,0.3)\n",
    "cv.imshow('Color image',scaled_img)\n",
    "\n",
    "\n",
    "\n",
    "gray = cv.cvtColor(scaled_img,cv.COLOR_BGR2GRAY)\n",
    "cv.imshow('Gray Person',gray)\n",
    "\n",
    "har_cascade = cv.CascadeClassifier('haar_face.xml')\n",
    "faces_recr = har_cascade.detectMultiScale(gray,scaleFactor=1.09,minNeighbors=1)\n",
    "print(len(faces_recr))\n",
    "\n",
    "for (x,y,w,h) in faces_recr:\n",
    "    cv.rectangle(scaled_img,(x,y),(x+w,y+h),(0,255,0),thickness=2)\n",
    "\n",
    "cv.imshow('Detected faces',scaled_img)\n",
    "\n",
    "cv.waitKey(0)"
   ]
  },
  {
   "cell_type": "markdown",
   "metadata": {},
   "source": [
    "#### Face detection in web cam"
   ]
  },
  {
   "cell_type": "code",
   "execution_count": 2,
   "metadata": {},
   "outputs": [],
   "source": [
    "capture = cv.VideoCapture(0) # VideoCapture(0) the argument will determin the input sourse for example 0 means the webcam and if there is other cameras then need to give that number\n",
    "while True:\n",
    "    isTrue,frame = capture.read()\n",
    "    cv.imshow('Video',frame)\n",
    "    gray = cv.cvtColor(frame,cv.COLOR_BGR2GRAY)\n",
    "    cv.imshow('Gray Person',gray)\n",
    "\n",
    "    har_cascade = cv.CascadeClassifier('haar_face.xml')\n",
    "    faces_recr = har_cascade.detectMultiScale(gray,scaleFactor=1.1,minNeighbors=2)\n",
    "    # print(len(faces_recr))\n",
    "\n",
    "    for (x,y,w,h) in faces_recr:\n",
    "        cv.rectangle(frame,(x,y),(x+w,y+h),(0,255,0),thickness=2)\n",
    "    \n",
    "    cv.imshow('Video',frame)\n",
    "    \n",
    "    if cv.waitKey(20) & 0xFF==ord('d'):\n",
    "        break\n",
    "\n",
    "\n",
    "\n",
    "capture.release()\n",
    "cv.destroyAllWindows()"
   ]
  }
 ],
 "metadata": {
  "kernelspec": {
   "display_name": "Python 3",
   "language": "python",
   "name": "python3"
  },
  "language_info": {
   "codemirror_mode": {
    "name": "ipython",
    "version": 3
   },
   "file_extension": ".py",
   "mimetype": "text/x-python",
   "name": "python",
   "nbconvert_exporter": "python",
   "pygments_lexer": "ipython3",
   "version": "3.9.18"
  }
 },
 "nbformat": 4,
 "nbformat_minor": 2
}
