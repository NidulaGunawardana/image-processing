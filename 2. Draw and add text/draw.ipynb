{
 "cells": [
  {
   "cell_type": "markdown",
   "metadata": {},
   "source": [
    "### Draw on images\n",
    "\n",
    "First going to draw on a blank black frame"
   ]
  },
  {
   "cell_type": "code",
   "execution_count": 39,
   "metadata": {},
   "outputs": [
    {
     "data": {
      "text/plain": [
       "-1"
      ]
     },
     "execution_count": 39,
     "metadata": {},
     "output_type": "execute_result"
    }
   ],
   "source": [
    "import cv2 as cv\n",
    "import numpy as np\n",
    "\n",
    "blank = np.zeros((500,500,3),dtype='uint8') # (width,height,no_ofcolor channels)\n",
    "cv.imshow('Blank',blank)\n",
    "\n",
    "\n",
    "cv.waitKey(0)"
   ]
  },
  {
   "cell_type": "code",
   "execution_count": 40,
   "metadata": {},
   "outputs": [
    {
     "data": {
      "text/plain": [
       "-1"
      ]
     },
     "execution_count": 40,
     "metadata": {},
     "output_type": "execute_result"
    }
   ],
   "source": [
    "blank = np.zeros((500,500,3),dtype='uint8')\n",
    "\n",
    "# painting in a part of the frame\n",
    "\n",
    "blank[200:300,300:400] = 0,0,255 # BGR values of the frame\n",
    "cv.imshow('Green',blank)\n",
    "cv.waitKey(0)\n"
   ]
  },
  {
   "cell_type": "code",
   "execution_count": 41,
   "metadata": {},
   "outputs": [
    {
     "data": {
      "text/plain": [
       "-1"
      ]
     },
     "execution_count": 41,
     "metadata": {},
     "output_type": "execute_result"
    }
   ],
   "source": [
    "blank = np.zeros((500,500,3),dtype='uint8')\n",
    "# Drawing a rectangle\n",
    "\n",
    "# thickness of the shape is -1 it will fill the box otherwise thickness can be set to different sizes\n",
    "# cv.rectangle(blank,(0,0),(250,500),(0,255,0),thickness=-1) \n",
    "\n",
    "# Different method\n",
    "cv.rectangle(blank,(0,0),(blank.shape[1]//2,blank.shape[0]//2),(0,255,0),thickness=-1)\n",
    "cv.imshow('Rectangle',blank)\n",
    "cv.waitKey(0)"
   ]
  },
  {
   "cell_type": "code",
   "execution_count": 42,
   "metadata": {},
   "outputs": [
    {
     "data": {
      "text/plain": [
       "-1"
      ]
     },
     "execution_count": 42,
     "metadata": {},
     "output_type": "execute_result"
    }
   ],
   "source": [
    "blank = np.zeros((500,500,3),dtype='uint8')\n",
    "# Drawing a circle\n",
    "\n",
    "#(blank.shape[1]//2,blank.shape[0]//2) to get the center of the frame\n",
    "cv.circle(blank,(blank.shape[1]//2,blank.shape[0]//2),40,(0,0,255),thickness=3)\n",
    "cv.imshow('Circle',blank)\n",
    "cv.waitKey(0)"
   ]
  },
  {
   "cell_type": "code",
   "execution_count": 43,
   "metadata": {},
   "outputs": [
    {
     "data": {
      "text/plain": [
       "-1"
      ]
     },
     "execution_count": 43,
     "metadata": {},
     "output_type": "execute_result"
    }
   ],
   "source": [
    "blank = np.zeros((500,500,3),dtype='uint8')\n",
    "# Drawing a line\n",
    "\n",
    "#(blank.shape[1]//2,blank.shape[0]//2) to get the center of the frame\n",
    "cv.line(blank,(100,100),(150,200),(255,255,255),thickness=3)\n",
    "cv.imshow('line',blank)\n",
    "cv.waitKey(0)"
   ]
  },
  {
   "cell_type": "markdown",
   "metadata": {},
   "source": [
    "### Write on images"
   ]
  },
  {
   "cell_type": "code",
   "execution_count": 45,
   "metadata": {},
   "outputs": [
    {
     "data": {
      "text/plain": [
       "-1"
      ]
     },
     "execution_count": 45,
     "metadata": {},
     "output_type": "execute_result"
    }
   ],
   "source": [
    "blank = np.zeros((500,500,3),dtype='uint8')\n",
    "\n",
    "cv.putText(blank,'Hello My name is Nidula',(0,225),cv.FONT_HERSHEY_TRIPLEX,1.0,(0,255,0),2)\n",
    "cv.imshow('Text',blank)\n",
    "cv.waitKey(0)"
   ]
  }
 ],
 "metadata": {
  "kernelspec": {
   "display_name": "Python 3",
   "language": "python",
   "name": "python3"
  },
  "language_info": {
   "codemirror_mode": {
    "name": "ipython",
    "version": 3
   },
   "file_extension": ".py",
   "mimetype": "text/x-python",
   "name": "python",
   "nbconvert_exporter": "python",
   "pygments_lexer": "ipython3",
   "version": "3.10.11"
  }
 },
 "nbformat": 4,
 "nbformat_minor": 2
}
