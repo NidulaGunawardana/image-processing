{
 "cells": [
  {
   "cell_type": "markdown",
   "metadata": {},
   "source": [
    "## basic functions in open cv"
   ]
  },
  {
   "cell_type": "code",
   "execution_count": 1,
   "metadata": {},
   "outputs": [
    {
     "data": {
      "text/plain": [
       "-1"
      ]
     },
     "execution_count": 1,
     "metadata": {},
     "output_type": "execute_result"
    }
   ],
   "source": [
    "import cv2 as cv\n",
    "\n",
    "\n",
    "\n",
    "def rescaleFrame(frame,scale=0.75):\n",
    "    \"\"\"\n",
    "    This method will work for any kind of video photo or live video\n",
    "    \"\"\"\n",
    "    width = int(frame.shape[1]*scale)\n",
    "    height = int(frame.shape[0]*scale)\n",
    "    \n",
    "    dimentions = (width,height)\n",
    "    \n",
    "    return cv.resize(frame,dimentions,interpolation=cv.INTER_AREA)\n",
    "\n",
    "img = cv.imread('../1. Read image and video/images/image1.jpg')\n",
    "scaled_img = rescaleFrame(img,0.1)\n",
    "cv.imshow('Color image',scaled_img)\n",
    "\n",
    "\n",
    "cv.waitKey(0)"
   ]
  },
  {
   "cell_type": "code",
   "execution_count": 2,
   "metadata": {},
   "outputs": [
    {
     "data": {
      "text/plain": [
       "-1"
      ]
     },
     "execution_count": 2,
     "metadata": {},
     "output_type": "execute_result"
    }
   ],
   "source": [
    "# Converting to grayscale\n",
    "\n",
    "gray = cv.cvtColor(scaled_img,cv.COLOR_BGR2GRAY)\n",
    "cv.imshow('Gray Image',gray)\n",
    "\n",
    "cv.waitKey(0)\n"
   ]
  },
  {
   "cell_type": "code",
   "execution_count": 3,
   "metadata": {},
   "outputs": [
    {
     "data": {
      "text/plain": [
       "-1"
      ]
     },
     "execution_count": 3,
     "metadata": {},
     "output_type": "execute_result"
    }
   ],
   "source": [
    "# Adding blur\n",
    "\n",
    "blur = cv.GaussianBlur(scaled_img,(5,5),cv.BORDER_DEFAULT) #(5,5) this should only be an odd number\n",
    "cv.imshow('Blured Image',blur)\n",
    "\n",
    "cv.waitKey(0)\n"
   ]
  },
  {
   "cell_type": "markdown",
   "metadata": {},
   "source": [
    "### Edge Cascade"
   ]
  },
  {
   "cell_type": "code",
   "execution_count": 4,
   "metadata": {},
   "outputs": [
    {
     "data": {
      "text/plain": [
       "-1"
      ]
     },
     "execution_count": 4,
     "metadata": {},
     "output_type": "execute_result"
    }
   ],
   "source": [
    "canny = cv.Canny(blur,125,175) # by passing the blured image will reduce the amount of edges detected in the image will only expose the main image\n",
    "cv.imshow('Edge Image',canny)\n",
    "\n",
    "cv.waitKey(0)"
   ]
  },
  {
   "cell_type": "code",
   "execution_count": 5,
   "metadata": {},
   "outputs": [
    {
     "data": {
      "text/plain": [
       "-1"
      ]
     },
     "execution_count": 5,
     "metadata": {},
     "output_type": "execute_result"
    }
   ],
   "source": [
    "# dialating the image\n",
    "\n",
    "dialated = cv.dilate(canny,(7,7),iterations=3)\n",
    "cv.imshow('Dialated Image',dialated)\n",
    "\n",
    "cv.waitKey(0)"
   ]
  },
  {
   "cell_type": "code",
   "execution_count": 6,
   "metadata": {},
   "outputs": [
    {
     "data": {
      "text/plain": [
       "-1"
      ]
     },
     "execution_count": 6,
     "metadata": {},
     "output_type": "execute_result"
    }
   ],
   "source": [
    "# Eroding\n",
    "\n",
    "eroded = cv.erode(dialated,(7,7),iterations=3)\n",
    "cv.imshow('Eroded Image',eroded)\n",
    "\n",
    "cv.waitKey(0)\n"
   ]
  },
  {
   "cell_type": "markdown",
   "metadata": {},
   "source": [
    "### Resize Function"
   ]
  },
  {
   "cell_type": "code",
   "execution_count": 2,
   "metadata": {},
   "outputs": [
    {
     "data": {
      "text/plain": [
       "-1"
      ]
     },
     "execution_count": 2,
     "metadata": {},
     "output_type": "execute_result"
    }
   ],
   "source": [
    "resize = cv.resize(img,(500,500),interpolation=cv.INTER_CUBIC) # INTER_CUBIC this is the slowest but it is the most detailed resizing\n",
    "cv.imshow('Resized Image',resize)\n",
    "\n",
    "cv.waitKey(0)"
   ]
  },
  {
   "cell_type": "markdown",
   "metadata": {},
   "source": [
    "### Crop function"
   ]
  },
  {
   "cell_type": "code",
   "execution_count": 8,
   "metadata": {},
   "outputs": [
    {
     "data": {
      "text/plain": [
       "-1"
      ]
     },
     "execution_count": 8,
     "metadata": {},
     "output_type": "execute_result"
    }
   ],
   "source": [
    "cropped = scaled_img[0:200,200:400]\n",
    "cv.imshow(\"cropped image\",cropped)\n",
    "\n",
    "cv.waitKey(0)"
   ]
  },
  {
   "cell_type": "markdown",
   "metadata": {},
   "source": [
    "44min\n"
   ]
  }
 ],
 "metadata": {
  "kernelspec": {
   "display_name": "Python 3",
   "language": "python",
   "name": "python3"
  },
  "language_info": {
   "codemirror_mode": {
    "name": "ipython",
    "version": 3
   },
   "file_extension": ".py",
   "mimetype": "text/x-python",
   "name": "python",
   "nbconvert_exporter": "python",
   "pygments_lexer": "ipython3",
   "version": "3.10.11"
  }
 },
 "nbformat": 4,
 "nbformat_minor": 2
}
